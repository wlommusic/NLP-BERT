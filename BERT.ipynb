{
 "cells": [
  {
   "cell_type": "markdown",
   "id": "82e2782e",
   "metadata": {},
   "source": [
    "# installing"
   ]
  },
  {
   "cell_type": "code",
   "execution_count": null,
   "id": "ae7e7d9b",
   "metadata": {},
   "outputs": [],
   "source": [
    "!pip install -U scikit-learn"
   ]
  },
  {
   "cell_type": "code",
   "execution_count": null,
   "id": "abe534df",
   "metadata": {},
   "outputs": [],
   "source": [
    "!pip install transformers requests beautifulsoup4 pandas lxml tqdm numpy"
   ]
  },
  {
   "cell_type": "code",
   "execution_count": null,
   "id": "a7211946",
   "metadata": {},
   "outputs": [],
   "source": [
    "# What version of Python do you have?\n",
    "import sys\n",
    "import numpy as np\n",
    "import pandas as pd\n",
    "import torch\n",
    "import pandas as pd\n",
    "import sklearn as sk\n",
    "\n",
    "print(f\"PyTorch Version: {torch.__version__}\")\n",
    "print()\n",
    "print(f\"Python {sys.version}\")\n",
    "print(f\"Pandas {pd.__version__}\")\n",
    "print(f\"Scikit-Learn {sk.__version__}\")\n",
    "print(\"GPU is\", \"available\" if torch.cuda.is_available() else \"NOT AVAILABLE\")"
   ]
  },
  {
   "cell_type": "markdown",
   "id": "9ae69c60",
   "metadata": {},
   "source": [
    "# imports"
   ]
  },
  {
   "cell_type": "code",
   "execution_count": 1,
   "id": "8242fc22",
   "metadata": {},
   "outputs": [],
   "source": [
    "from transformers import AutoTokenizer,AutoModelForSequenceClassification\n",
    "import torch\n",
    "import requests\n",
    "from bs4 import BeautifulSoup\n",
    "import re\n",
    "import tqdm"
   ]
  },
  {
   "cell_type": "markdown",
   "id": "6b9fe825",
   "metadata": {},
   "source": [
    "# initiate model"
   ]
  },
  {
   "cell_type": "code",
   "execution_count": 2,
   "id": "718ba395",
   "metadata": {},
   "outputs": [],
   "source": [
    "tokenizer = AutoTokenizer.from_pretrained(\"nlptown/bert-base-multilingual-uncased-sentiment\")\n",
    "model = AutoModelForSequenceClassification.from_pretrained('nlptown/bert-base-multilingual-uncased-sentiment')\n"
   ]
  },
  {
   "cell_type": "code",
   "execution_count": 3,
   "id": "edae62b6",
   "metadata": {},
   "outputs": [
    {
     "name": "stdout",
     "output_type": "stream",
     "text": [
      "good\n"
     ]
    }
   ],
   "source": [
    "tokens =tokenizer.encode(\"nice\",return_tensors=\"pt\")\n",
    "result =model(tokens)\n",
    "result.logits\n",
    "rating=int(torch.argmax(result.logits))+1\n",
    "if rating == 1:\n",
    "    print('Poor')\n",
    "elif rating ==2:\n",
    "    print('Bad')\n",
    "elif rating ==3:\n",
    "    print('average')\n",
    "elif rating ==4:\n",
    "    print('good')\n",
    "else:\n",
    "    print('excellent')\n",
    "    "
   ]
  },
  {
   "cell_type": "markdown",
   "id": "6e08af1f",
   "metadata": {},
   "source": [
    "# scraping reviews"
   ]
  },
  {
   "cell_type": "code",
   "execution_count": null,
   "id": "c84a586d",
   "metadata": {},
   "outputs": [],
   "source": [
    "# r = requests.get('https://www.yelp.com/biz/social-brew-cafe-pyrmont')\n",
    "# soup = BeautifulSoup(r.text, 'html.parser')\n",
    "# regex = re.compile('.*comment.*')\n",
    "# results = soup.find_all('p', {'class':regex})\n",
    "# reviews = [result.text for result in results]\n",
    "# print(reviews)"
   ]
  },
  {
   "cell_type": "code",
   "execution_count": null,
   "id": "85071213",
   "metadata": {},
   "outputs": [],
   "source": [
    "# df = pd.DataFrame(np.array(reviews), columns=['review'])\n",
    "# df['review'].iloc[0]"
   ]
  },
  {
   "cell_type": "markdown",
   "id": "b89a1ce3",
   "metadata": {},
   "source": [
    "# buidling a function"
   ]
  },
  {
   "cell_type": "code",
   "execution_count": 6,
   "id": "ddd1184c",
   "metadata": {},
   "outputs": [],
   "source": [
    "def sentiment_score(review):\n",
    "    tokens = tokenizer.encode(review, return_tensors='pt')\n",
    "    result = model(tokens)\n",
    "    return int(torch.argmax(result.logits))+1\n",
    "    "
   ]
  },
  {
   "cell_type": "code",
   "execution_count": 8,
   "id": "bd5d2415",
   "metadata": {},
   "outputs": [
    {
     "data": {
      "text/plain": [
       "1"
      ]
     },
     "execution_count": 8,
     "metadata": {},
     "output_type": "execute_result"
    }
   ],
   "source": [
    "sentiment_score(\"hello ugly\")"
   ]
  }
 ],
 "metadata": {
  "kernelspec": {
   "display_name": "Python [conda env:torch] *",
   "language": "python",
   "name": "conda-env-torch-py"
  },
  "language_info": {
   "codemirror_mode": {
    "name": "ipython",
    "version": 3
   },
   "file_extension": ".py",
   "mimetype": "text/x-python",
   "name": "python",
   "nbconvert_exporter": "python",
   "pygments_lexer": "ipython3",
   "version": "3.7.10"
  }
 },
 "nbformat": 4,
 "nbformat_minor": 5
}

